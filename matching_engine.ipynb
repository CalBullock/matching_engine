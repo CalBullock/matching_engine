{
 "cells": [
  {
   "cell_type": "markdown",
   "id": "0a941f91-41a3-4cc2-b9f2-184c25bdae0d",
   "metadata": {},
   "source": [
    "# Set variables"
   ]
  },
  {
   "cell_type": "code",
   "execution_count": 59,
   "id": "0be12dfd-4e60-44b6-a05c-0b36715a6ef1",
   "metadata": {},
   "outputs": [
    {
     "name": "stdout",
     "output_type": "stream",
     "text": [
      "Updated property [core/project].\n"
     ]
    }
   ],
   "source": [
    "PROJECT_ID = 'image-similarity-393315'\n",
    "!gcloud config set project {PROJECT_ID}"
   ]
  },
  {
   "cell_type": "code",
   "execution_count": 60,
   "id": "2ae077e7-138a-4c14-b526-37f0499be1d6",
   "metadata": {},
   "outputs": [],
   "source": [
    "REGION = 'us-central1'"
   ]
  },
  {
   "cell_type": "code",
   "execution_count": 71,
   "id": "fc1708cf-3acd-4350-a8eb-f76298f5bb5e",
   "metadata": {},
   "outputs": [],
   "source": [
    "BUCKET_URI = \"gs://xray_data_us_central1\"  # @param {type:\"string\"}"
   ]
  },
  {
   "cell_type": "code",
   "execution_count": 72,
   "id": "c232a11e-405a-441d-8ae3-f1fae58ffa9c",
   "metadata": {},
   "outputs": [],
   "source": [
    "BUCKET = 'xray_data_us_central1'"
   ]
  },
  {
   "cell_type": "code",
   "execution_count": 63,
   "id": "991b59d9-4ae0-4a5f-b6e7-7d947b3a21d2",
   "metadata": {},
   "outputs": [],
   "source": [
    "import pickle\n",
    "from google.cloud import storage\n",
    "import numpy as np"
   ]
  },
  {
   "cell_type": "code",
   "execution_count": 64,
   "id": "eac88d47-7802-4738-8490-651b269bfe78",
   "metadata": {},
   "outputs": [],
   "source": [
    "SERVICE_ACCOUNT = 'default-service-account@image-similarity-393315.iam.gserviceaccount.com' # change to your service account"
   ]
  },
  {
   "cell_type": "markdown",
   "id": "81e97675-71ca-41ee-a1d8-c6039e2276fa",
   "metadata": {},
   "source": [
    "# Download data from bucket"
   ]
  },
  {
   "cell_type": "code",
   "execution_count": 73,
   "id": "bca972b3-e681-40a1-a1eb-be1da1ec653a",
   "metadata": {},
   "outputs": [],
   "source": [
    "storage_client = storage.Client(project=PROJECT_ID)\n",
    "bucket = storage_client.get_bucket(BUCKET)\n",
    "blobs = bucket.list_blobs()"
   ]
  },
  {
   "cell_type": "code",
   "execution_count": 8,
   "id": "55a0fbd0-2246-403c-b810-3923fe7cb8e1",
   "metadata": {},
   "outputs": [],
   "source": [
    "def download_blob(bucket_name, source_blob_name, destination_file_name):\n",
    "    \"\"\"Downloads a blob from the bucket.\"\"\"\n",
    "    # The ID of your GCS bucket\n",
    "    # bucket_name = \"your-bucket-name\"\n",
    "\n",
    "    # The ID of your GCS object\n",
    "    # source_blob_name = \"storage-object-name\"\n",
    "\n",
    "    # The path to which the file should be downloaded\n",
    "    # destination_file_name = \"local/path/to/file\"\n",
    "\n",
    "    storage_client = storage.Client()\n",
    "\n",
    "    bucket = storage_client.bucket(bucket_name)\n",
    "\n",
    "    # Construct a client side representation of a blob.\n",
    "    # Note `Bucket.blob` differs from `Bucket.get_blob` as it doesn't retrieve\n",
    "    # any content from Google Cloud Storage. As we don't need additional data,\n",
    "    # using `Bucket.blob` is preferred here.\n",
    "    blob = bucket.blob(source_blob_name)\n",
    "    blob.download_to_filename(destination_file_name)\n",
    "\n",
    "    print(\n",
    "        \"Downloaded storage object {} from bucket {} to local file {}.\".format(\n",
    "            source_blob_name, bucket_name, destination_file_name\n",
    "        )\n",
    "    )\n"
   ]
  },
  {
   "cell_type": "code",
   "execution_count": 9,
   "id": "e59d3744-2c0e-477d-a7ab-d39bcce13397",
   "metadata": {},
   "outputs": [
    {
     "ename": "FileNotFoundError",
     "evalue": "[Errno 2] No such file or directory: 'matching_engine/embeddings.pkl'",
     "output_type": "error",
     "traceback": [
      "\u001b[0;31m---------------------------------------------------------------------------\u001b[0m",
      "\u001b[0;31mFileNotFoundError\u001b[0m                         Traceback (most recent call last)",
      "Cell \u001b[0;32mIn[9], line 1\u001b[0m\n\u001b[0;32m----> 1\u001b[0m \u001b[43mdownload_blob\u001b[49m\u001b[43m(\u001b[49m\u001b[43mBUCKET\u001b[49m\u001b[43m,\u001b[49m\u001b[43m \u001b[49m\u001b[38;5;124;43m'\u001b[39;49m\u001b[38;5;124;43membeddings/efficientnet_b0_vectors.pkl\u001b[39;49m\u001b[38;5;124;43m'\u001b[39;49m\u001b[43m,\u001b[49m\u001b[43m \u001b[49m\u001b[38;5;124;43m'\u001b[39;49m\u001b[38;5;124;43mmatching_engine/embeddings.pkl\u001b[39;49m\u001b[38;5;124;43m'\u001b[39;49m\u001b[43m)\u001b[49m\n",
      "Cell \u001b[0;32mIn[8], line 21\u001b[0m, in \u001b[0;36mdownload_blob\u001b[0;34m(bucket_name, source_blob_name, destination_file_name)\u001b[0m\n\u001b[1;32m     16\u001b[0m \u001b[38;5;66;03m# Construct a client side representation of a blob.\u001b[39;00m\n\u001b[1;32m     17\u001b[0m \u001b[38;5;66;03m# Note `Bucket.blob` differs from `Bucket.get_blob` as it doesn't retrieve\u001b[39;00m\n\u001b[1;32m     18\u001b[0m \u001b[38;5;66;03m# any content from Google Cloud Storage. As we don't need additional data,\u001b[39;00m\n\u001b[1;32m     19\u001b[0m \u001b[38;5;66;03m# using `Bucket.blob` is preferred here.\u001b[39;00m\n\u001b[1;32m     20\u001b[0m blob \u001b[38;5;241m=\u001b[39m bucket\u001b[38;5;241m.\u001b[39mblob(source_blob_name)\n\u001b[0;32m---> 21\u001b[0m \u001b[43mblob\u001b[49m\u001b[38;5;241;43m.\u001b[39;49m\u001b[43mdownload_to_filename\u001b[49m\u001b[43m(\u001b[49m\u001b[43mdestination_file_name\u001b[49m\u001b[43m)\u001b[49m\n\u001b[1;32m     23\u001b[0m \u001b[38;5;28mprint\u001b[39m(\n\u001b[1;32m     24\u001b[0m     \u001b[38;5;124m\"\u001b[39m\u001b[38;5;124mDownloaded storage object \u001b[39m\u001b[38;5;132;01m{}\u001b[39;00m\u001b[38;5;124m from bucket \u001b[39m\u001b[38;5;132;01m{}\u001b[39;00m\u001b[38;5;124m to local file \u001b[39m\u001b[38;5;132;01m{}\u001b[39;00m\u001b[38;5;124m.\u001b[39m\u001b[38;5;124m\"\u001b[39m\u001b[38;5;241m.\u001b[39mformat(\n\u001b[1;32m     25\u001b[0m         source_blob_name, bucket_name, destination_file_name\n\u001b[1;32m     26\u001b[0m     )\n\u001b[1;32m     27\u001b[0m )\n",
      "File \u001b[0;32m/opt/conda/lib/python3.10/site-packages/google/cloud/storage/blob.py:1255\u001b[0m, in \u001b[0;36mBlob.download_to_filename\u001b[0;34m(self, filename, client, start, end, raw_download, if_etag_match, if_etag_not_match, if_generation_match, if_generation_not_match, if_metageneration_match, if_metageneration_not_match, timeout, checksum, retry)\u001b[0m\n\u001b[1;32m   1253\u001b[0m client \u001b[38;5;241m=\u001b[39m \u001b[38;5;28mself\u001b[39m\u001b[38;5;241m.\u001b[39m_require_client(client)\n\u001b[1;32m   1254\u001b[0m \u001b[38;5;28;01mtry\u001b[39;00m:\n\u001b[0;32m-> 1255\u001b[0m     \u001b[38;5;28;01mwith\u001b[39;00m \u001b[38;5;28;43mopen\u001b[39;49m\u001b[43m(\u001b[49m\u001b[43mfilename\u001b[49m\u001b[43m,\u001b[49m\u001b[43m \u001b[49m\u001b[38;5;124;43m\"\u001b[39;49m\u001b[38;5;124;43mwb\u001b[39;49m\u001b[38;5;124;43m\"\u001b[39;49m\u001b[43m)\u001b[49m \u001b[38;5;28;01mas\u001b[39;00m file_obj:\n\u001b[1;32m   1256\u001b[0m         client\u001b[38;5;241m.\u001b[39mdownload_blob_to_file(\n\u001b[1;32m   1257\u001b[0m             \u001b[38;5;28mself\u001b[39m,\n\u001b[1;32m   1258\u001b[0m             file_obj,\n\u001b[0;32m   (...)\u001b[0m\n\u001b[1;32m   1270\u001b[0m             retry\u001b[38;5;241m=\u001b[39mretry,\n\u001b[1;32m   1271\u001b[0m         )\n\u001b[1;32m   1272\u001b[0m \u001b[38;5;28;01mexcept\u001b[39;00m resumable_media\u001b[38;5;241m.\u001b[39mDataCorruption:\n\u001b[1;32m   1273\u001b[0m     \u001b[38;5;66;03m# Delete the corrupt downloaded file.\u001b[39;00m\n",
      "\u001b[0;31mFileNotFoundError\u001b[0m: [Errno 2] No such file or directory: 'matching_engine/embeddings.pkl'"
     ]
    }
   ],
   "source": [
    "download_blob(BUCKET, 'embeddings/efficientnet_b0_vectors.pkl', 'matching_engine/embeddings.pkl')"
   ]
  },
  {
   "cell_type": "code",
   "execution_count": 10,
   "id": "fed7be2a-27ab-49d1-8ddf-4de222f34920",
   "metadata": {},
   "outputs": [],
   "source": [
    "#function to load the dictionary from a pickle file\n",
    "def load_obj(name):\n",
    "    with open(name + '.pkl', 'rb') as f:\n",
    "        return pickle.load(f)"
   ]
  },
  {
   "cell_type": "code",
   "execution_count": 407,
   "id": "3c53433b-728a-44ef-9110-ac880698e878",
   "metadata": {},
   "outputs": [],
   "source": [
    "embeddings = load_obj('embeddings')"
   ]
  },
  {
   "cell_type": "markdown",
   "id": "73085810-bd06-4be8-aef0-d33623b19caf",
   "metadata": {},
   "source": [
    "# pandas"
   ]
  },
  {
   "cell_type": "code",
   "execution_count": 415,
   "id": "1b47077d-72bf-4097-bbaf-2fc75ddc9620",
   "metadata": {},
   "outputs": [],
   "source": [
    "import pandas as pd\n",
    "from sklearn.model_selection import train_test_split"
   ]
  },
  {
   "cell_type": "code",
   "execution_count": 423,
   "id": "b6550f43-324d-46d5-87ec-99dbb1e50c30",
   "metadata": {},
   "outputs": [],
   "source": [
    "df = pd.DataFrame(embeddings.items(), columns=['img_name', 'array'])"
   ]
  },
  {
   "cell_type": "code",
   "execution_count": 424,
   "id": "79be6bad-94e7-4c22-9be1-3d7cc3b2b60f",
   "metadata": {},
   "outputs": [
    {
     "data": {
      "text/html": [
       "<div>\n",
       "<style scoped>\n",
       "    .dataframe tbody tr th:only-of-type {\n",
       "        vertical-align: middle;\n",
       "    }\n",
       "\n",
       "    .dataframe tbody tr th {\n",
       "        vertical-align: top;\n",
       "    }\n",
       "\n",
       "    .dataframe thead th {\n",
       "        text-align: right;\n",
       "    }\n",
       "</style>\n",
       "<table border=\"1\" class=\"dataframe\">\n",
       "  <thead>\n",
       "    <tr style=\"text-align: right;\">\n",
       "      <th></th>\n",
       "      <th>img_name</th>\n",
       "      <th>array</th>\n",
       "    </tr>\n",
       "  </thead>\n",
       "  <tbody>\n",
       "    <tr>\n",
       "      <th>0</th>\n",
       "      <td>IM-0001-0001.jpeg</td>\n",
       "      <td>[-0.24213864, 2.1718588, -0.12323886, -0.16982...</td>\n",
       "    </tr>\n",
       "  </tbody>\n",
       "</table>\n",
       "</div>"
      ],
      "text/plain": [
       "            img_name                                              array\n",
       "0  IM-0001-0001.jpeg  [-0.24213864, 2.1718588, -0.12323886, -0.16982..."
      ]
     },
     "execution_count": 424,
     "metadata": {},
     "output_type": "execute_result"
    }
   ],
   "source": [
    "df.head(1)"
   ]
  },
  {
   "cell_type": "code",
   "execution_count": 422,
   "id": "87b65560-63c8-430e-b478-6a7330b0aa11",
   "metadata": {},
   "outputs": [
    {
     "data": {
      "text/plain": [
       "<bound method DataFrame.info of                              0  \\\n",
       "0            IM-0001-0001.jpeg   \n",
       "1            IM-0003-0001.jpeg   \n",
       "2            IM-0005-0001.jpeg   \n",
       "3            IM-0006-0001.jpeg   \n",
       "4            IM-0007-0001.jpeg   \n",
       "...                        ...   \n",
       "5851   person99_virus_183.jpeg   \n",
       "5852  person9_bacteria_38.jpeg   \n",
       "5853  person9_bacteria_39.jpeg   \n",
       "5854  person9_bacteria_40.jpeg   \n",
       "5855  person9_bacteria_41.jpeg   \n",
       "\n",
       "                                                      1  \n",
       "0     [-0.24213864, 2.1718588, -0.12323886, -0.16982...  \n",
       "1     [-0.12668636, 0.388102, -0.16648227, -0.206382...  \n",
       "2     [-0.25819594, 1.5601717, -0.09210002, 1.401620...  \n",
       "3     [-0.10521202, 1.0930141, -0.21762829, -0.04048...  \n",
       "4     [-0.27805325, 1.6878662, -0.20222458, 4.357917...  \n",
       "...                                                 ...  \n",
       "5851  [-0.25678584, -0.1522446, -0.0336709, -0.15572...  \n",
       "5852  [-0.21303566, 1.8309299, 0.5107095, -0.2414375...  \n",
       "5853  [-0.14925578, 1.7872566, -0.20936623, -0.18740...  \n",
       "5854  [-0.2712467, 0.7748953, -0.15583466, 1.2632576...  \n",
       "5855  [-0.24619427, -0.034361083, 0.7781509, -0.2094...  \n",
       "\n",
       "[5856 rows x 2 columns]>"
      ]
     },
     "execution_count": 422,
     "metadata": {},
     "output_type": "execute_result"
    }
   ],
   "source": [
    "df.info"
   ]
  },
  {
   "cell_type": "code",
   "execution_count": 425,
   "id": "cfb6c1b6-00f8-45fe-aa73-b8f0e1311a1e",
   "metadata": {},
   "outputs": [],
   "source": [
    "train, test = train_test_split(df, test_size=0.1, random_state=1)"
   ]
  },
  {
   "cell_type": "code",
   "execution_count": 431,
   "id": "e7169fbc-5d02-4a13-8fb0-99aeb34140c6",
   "metadata": {},
   "outputs": [
    {
     "data": {
      "text/plain": [
       "(5270, 2)"
      ]
     },
     "execution_count": 431,
     "metadata": {},
     "output_type": "execute_result"
    }
   ],
   "source": [
    "train.shape"
   ]
  },
  {
   "cell_type": "code",
   "execution_count": 430,
   "id": "6bee4025-d0de-4c74-97be-a45a4b78d557",
   "metadata": {},
   "outputs": [
    {
     "data": {
      "text/plain": [
       "(586, 2)"
      ]
     },
     "execution_count": 430,
     "metadata": {},
     "output_type": "execute_result"
    }
   ],
   "source": [
    "test.shape"
   ]
  },
  {
   "cell_type": "code",
   "execution_count": 433,
   "id": "664863c6-e505-488f-9a48-e05c332a1f02",
   "metadata": {},
   "outputs": [],
   "source": [
    "embeddings = np.array(list(embeddings.values()))"
   ]
  },
  {
   "cell_type": "code",
   "execution_count": 434,
   "id": "de85e571-ad7d-4abe-897e-a1a9577b52d4",
   "metadata": {},
   "outputs": [
    {
     "data": {
      "text/plain": [
       "array([[-0.24213864,  2.1718588 , -0.12323886, ..., -0.24300715,\n",
       "        -0.0537712 , -0.18774644],\n",
       "       [-0.12668636,  0.388102  , -0.16648227, ..., -0.23803757,\n",
       "        -0.06480425,  2.0608761 ],\n",
       "       [-0.25819594,  1.5601717 , -0.09210002, ..., -0.1997578 ,\n",
       "        -0.09321513, -0.02120378],\n",
       "       ...,\n",
       "       [-0.14925578,  1.7872566 , -0.20936623, ..., -0.2784421 ,\n",
       "        -0.27832803,  2.2654784 ],\n",
       "       [-0.2712467 ,  0.7748953 , -0.15583466, ..., -0.18580486,\n",
       "        -0.23280355,  1.3082702 ],\n",
       "       [-0.24619427, -0.03436108,  0.7781509 , ..., -0.0994812 ,\n",
       "        -0.18152872, -0.19130498]], dtype=float32)"
      ]
     },
     "execution_count": 434,
     "metadata": {},
     "output_type": "execute_result"
    }
   ],
   "source": [
    "embeddings"
   ]
  },
  {
   "cell_type": "code",
   "execution_count": 446,
   "id": "23a47cad-af1f-4575-b441-51df04fe30b7",
   "metadata": {},
   "outputs": [],
   "source": [
    "train['array'] = train['array'].to_numpy()"
   ]
  },
  {
   "cell_type": "code",
   "execution_count": 449,
   "id": "608e321d-b069-4b3e-b2c2-0a7346e3b388",
   "metadata": {},
   "outputs": [],
   "source": [
    "test['array'] = test['array'].to_numpy()"
   ]
  },
  {
   "cell_type": "code",
   "execution_count": 448,
   "id": "d99cc83b-fe70-4ed3-b8c3-15054123ff16",
   "metadata": {},
   "outputs": [
    {
     "data": {
      "text/plain": [
       "array([array([ 0.5584762 ,  1.7270546 ,  0.9511839 , ...,  0.5438247 ,\n",
       "              -0.18814966, -0.27733767], dtype=float32)               ,\n",
       "       array([-0.08214644, -0.21455409,  0.5339077 , ..., -0.27389807,\n",
       "              -0.02904631,  2.8180537 ], dtype=float32)               ,\n",
       "       array([-0.2696867 , -0.26122242,  0.05249351, ..., -0.20173565,\n",
       "              -0.11204528,  0.59696203], dtype=float32)               ,\n",
       "       ...,\n",
       "       array([-0.25587174,  2.8557713 ,  1.1684427 , ..., -0.26464173,\n",
       "              -0.15293182, -0.15197457], dtype=float32)               ,\n",
       "       array([-0.18286645, -0.27846202,  0.7890189 , ..., -0.25566828,\n",
       "              -0.11964542, -0.16736534], dtype=float32)               ,\n",
       "       array([-0.2235914 ,  2.449529  , -0.12374002, ..., -0.27680856,\n",
       "              -0.11873614, -0.22669679], dtype=float32)               ],\n",
       "      dtype=object)"
      ]
     },
     "execution_count": 448,
     "metadata": {},
     "output_type": "execute_result"
    }
   ],
   "source": [
    "train['array'].values"
   ]
  },
  {
   "cell_type": "code",
   "execution_count": 445,
   "id": "e22d926c-4a95-4d48-9fda-ace571fc4d4d",
   "metadata": {},
   "outputs": [
    {
     "data": {
      "text/plain": [
       "array(['person547_virus_1086.jpeg', 'person520_bacteria_2205.jpeg',\n",
       "       'NORMAL2-IM-1234-0001.jpeg', ..., 'person348_bacteria_1604.jpeg',\n",
       "       'IM-0353-0001.jpeg', 'person653_virus_1235.jpeg'], dtype=object)"
      ]
     },
     "execution_count": 445,
     "metadata": {},
     "output_type": "execute_result"
    }
   ],
   "source": [
    "train['img_name'].values"
   ]
  },
  {
   "cell_type": "code",
   "execution_count": 356,
   "id": "8f809fbf-aa99-498d-ac15-84370a10c7b1",
   "metadata": {},
   "outputs": [
    {
     "data": {
      "text/plain": [
       "(5766, 1280)"
      ]
     },
     "execution_count": 356,
     "metadata": {},
     "output_type": "execute_result"
    }
   ],
   "source": [
    "train.shape"
   ]
  },
  {
   "cell_type": "code",
   "execution_count": 358,
   "id": "0e19aa12-8a7a-4c85-833e-ab9c3e4a7fa4",
   "metadata": {},
   "outputs": [
    {
     "data": {
      "text/plain": [
       "(90, 1280)"
      ]
     },
     "execution_count": 358,
     "metadata": {},
     "output_type": "execute_result"
    }
   ],
   "source": [
    "test.shape"
   ]
  },
  {
   "cell_type": "code",
   "execution_count": 453,
   "id": "2d1cc771-6f92-4191-b234-231a1faecd79",
   "metadata": {},
   "outputs": [],
   "source": [
    "import json\n",
    "\n",
    "with open('image_embeddings.json', 'w') as f:\n",
    "    embeddings_formatted = [\n",
    "        json.dumps(\n",
    "            {\n",
    "                'id': str(index),\n",
    "                'embedding': [str(value) for value in embedding],\n",
    "                    }\n",
    "        )\n",
    "        + '\\n'\n",
    "        for index, embedding in train.values\n",
    "    ]\n",
    "    f.writelines(embeddings_formatted)"
   ]
  },
  {
   "cell_type": "code",
   "execution_count": 454,
   "id": "590ac383-663c-43a0-96c8-e73c03050dbc",
   "metadata": {},
   "outputs": [
    {
     "name": "stdout",
     "output_type": "stream",
     "text": [
      "Copying file://image_embeddings.json [Content-Type=application/json]...\n",
      "\\ [1 files][ 94.3 MiB/ 94.3 MiB]                                                \n",
      "Operation completed over 1 objects/94.3 MiB.                                     \n"
     ]
    }
   ],
   "source": [
    "EMBEDDINGS_INITIAL_URI = f\"{BUCKET_URI}/embeddings/json\"\n",
    "! gsutil cp image_embeddings.json {EMBEDDINGS_INITIAL_URI}"
   ]
  },
  {
   "cell_type": "markdown",
   "id": "4458e88c-451f-4829-a115-f7ad4f7c4447",
   "metadata": {},
   "source": [
    "# Create index"
   ]
  },
  {
   "cell_type": "code",
   "execution_count": 457,
   "id": "8d429a83-c0b6-40d6-b514-1c858fb2bb26",
   "metadata": {},
   "outputs": [
    {
     "data": {
      "text/plain": [
       "(1280,)"
      ]
     },
     "execution_count": 457,
     "metadata": {},
     "output_type": "execute_result"
    }
   ],
   "source": [
    "train['array'][0].shape"
   ]
  },
  {
   "cell_type": "code",
   "execution_count": 458,
   "id": "2cdafe14-7434-4b19-ad4b-611f5bb17911",
   "metadata": {},
   "outputs": [],
   "source": [
    "DIMENSIONS = train['array'][0].shape\n",
    "DISPLAY_NAME = 'image_similarity_ann'"
   ]
  },
  {
   "cell_type": "code",
   "execution_count": 461,
   "id": "d2b23d65-c684-436a-b844-706c6a415021",
   "metadata": {},
   "outputs": [],
   "source": [
    "import os\n",
    "from google.cloud import aiplatform\n",
    "\n",
    "aiplatform.init(project=PROJECT_ID, location=REGION, staging_bucket=BUCKET_URI)"
   ]
  },
  {
   "cell_type": "code",
   "execution_count": 462,
   "id": "429e8289-cc8e-4893-90b0-3ddf32162d4b",
   "metadata": {},
   "outputs": [
    {
     "name": "stdout",
     "output_type": "stream",
     "text": [
      "Creating MatchingEngineIndex\n",
      "Create MatchingEngineIndex backing LRO: projects/327163206482/locations/us-central1/indexes/5492482793206185984/operations/6681458589757865984\n",
      "MatchingEngineIndex created. Resource name: projects/327163206482/locations/us-central1/indexes/5492482793206185984\n",
      "To use this MatchingEngineIndex in another session:\n",
      "index = aiplatform.MatchingEngineIndex('projects/327163206482/locations/us-central1/indexes/5492482793206185984')\n"
     ]
    }
   ],
   "source": [
    "tree_ah_index = aiplatform.MatchingEngineIndex.create_tree_ah_index(\n",
    "    display_name=DISPLAY_NAME,\n",
    "    contents_delta_uri=EMBEDDINGS_INITIAL_URI,\n",
    "    dimensions=DIMENSIONS,\n",
    "    approximate_neighbors_count=150,\n",
    "    leaf_node_embedding_count=500,\n",
    "    leaf_nodes_to_search_percent=7,\n",
    "    description='Image Similarity ANN index',\n",
    "    labels={'label_name': 'label_value'},\n",
    ")"
   ]
  },
  {
   "cell_type": "code",
   "execution_count": 463,
   "id": "d2189934-3d58-4424-9c11-3fd9e0de4866",
   "metadata": {},
   "outputs": [
    {
     "data": {
      "text/plain": [
       "'projects/327163206482/locations/us-central1/indexes/5492482793206185984'"
      ]
     },
     "execution_count": 463,
     "metadata": {},
     "output_type": "execute_result"
    }
   ],
   "source": [
    "INDEX_RESOURCE_NAME = tree_ah_index.resource_name\n",
    "INDEX_RESOURCE_NAME"
   ]
  },
  {
   "cell_type": "code",
   "execution_count": 464,
   "id": "f1fb8081-326d-44b2-95c1-8f1a303d15b2",
   "metadata": {},
   "outputs": [],
   "source": [
    "tree_ah_index = aiplatform.MatchingEngineIndex(index_name=INDEX_RESOURCE_NAME)"
   ]
  },
  {
   "cell_type": "markdown",
   "id": "10aaa800-4ee2-4ec2-bee2-4fd805d502f3",
   "metadata": {},
   "source": [
    "# Update index"
   ]
  },
  {
   "cell_type": "code",
   "execution_count": 311,
   "id": "bb2c4eb6-9e00-479f-895f-13eb58f8f776",
   "metadata": {
    "tags": []
   },
   "outputs": [],
   "source": [
    "with open('image_embeddings_incremental.json', 'w') as f:\n",
    "    index = 0\n",
    "    f.write(\n",
    "        json.dumps(\n",
    "            {\n",
    "                'id': str(index),\n",
    "                'embedding': [str(0) for _ in train[index]],\n",
    "            }\n",
    "        )\n",
    "        + '\\n'\n",
    "    )"
   ]
  },
  {
   "cell_type": "code",
   "execution_count": 91,
   "id": "591a4b4f-641b-41f0-9b03-28baa863d487",
   "metadata": {},
   "outputs": [],
   "source": [
    "EMBEDDINGS_UPDATE_URI = f\"{BUCKET_URI}/embeddings/incremental/\""
   ]
  },
  {
   "cell_type": "markdown",
   "id": "d4770e45-cc2f-4e42-97ba-c4bf1a9bdce3",
   "metadata": {},
   "source": [
    "! gsutil cp image_embeddings_incremental.json {EMBEDDINGS_UPDATE_URI}"
   ]
  },
  {
   "cell_type": "code",
   "execution_count": null,
   "id": "fd868f41-4a7b-492f-990f-ae9b9317b21f",
   "metadata": {},
   "outputs": [],
   "source": [
    "tree_ah_index = tree_ah_index.update_embeddings(\n",
    "    contents_delta_uri=EMBEDDINGS_UPDATE_URI,\n",
    ")"
   ]
  },
  {
   "cell_type": "code",
   "execution_count": null,
   "id": "778a4375-2331-4e30-a456-abf55297e6f5",
   "metadata": {},
   "outputs": [],
   "source": [
    "INDEX_RESOURCE_NAME = tree_ah_index.resource_name\n",
    "INDEX_RESOURCE_NAME"
   ]
  },
  {
   "cell_type": "markdown",
   "id": "35cc0da8-dffd-40f8-8c70-177628fbcf55",
   "metadata": {},
   "source": [
    "# Create IndexEndpoint with VPC network"
   ]
  },
  {
   "cell_type": "code",
   "execution_count": 465,
   "id": "41bd2fbb-d141-42f8-8da4-6ff60d9bcd54",
   "metadata": {},
   "outputs": [
    {
     "data": {
      "text/plain": [
       "'projects/327163206482/global/networks/imagesimilarityvpc'"
      ]
     },
     "execution_count": 465,
     "metadata": {},
     "output_type": "execute_result"
    }
   ],
   "source": [
    "# Retrieve the project number\n",
    "PROJECT_NUMBER = !gcloud projects list --filter=\"PROJECT_ID:'{PROJECT_ID}'\" --format='value(PROJECT_NUMBER)'\n",
    "PROJECT_NUMBER = PROJECT_NUMBER[0]\n",
    "\n",
    "VPC_NETWORK = 'imagesimilarityvpc'\n",
    "VPC_NETWORK_FULL = \"projects/{}/global/networks/{}\".format(PROJECT_NUMBER, VPC_NETWORK)\n",
    "VPC_NETWORK_FULL"
   ]
  },
  {
   "cell_type": "code",
   "execution_count": 466,
   "id": "4da6814e-8947-4e9d-9c0f-65d915abbdb0",
   "metadata": {},
   "outputs": [
    {
     "name": "stdout",
     "output_type": "stream",
     "text": [
      "Creating MatchingEngineIndexEndpoint\n",
      "Create MatchingEngineIndexEndpoint backing LRO: projects/327163206482/locations/us-central1/indexEndpoints/7798888752373301248/operations/5364155698751995904\n",
      "MatchingEngineIndexEndpoint created. Resource name: projects/327163206482/locations/us-central1/indexEndpoints/7798888752373301248\n",
      "To use this MatchingEngineIndexEndpoint in another session:\n",
      "index_endpoint = aiplatform.MatchingEngineIndexEndpoint('projects/327163206482/locations/us-central1/indexEndpoints/7798888752373301248')\n"
     ]
    }
   ],
   "source": [
    "my_index_endpoint = aiplatform.MatchingEngineIndexEndpoint.create(\n",
    "    display_name=\"ann_index_endpoint\",\n",
    "    description=\"index endpoint description\",\n",
    "    network=VPC_NETWORK_FULL,\n",
    ")"
   ]
  },
  {
   "cell_type": "code",
   "execution_count": 467,
   "id": "3230a6d7-1456-4936-9bf0-a92339cfb956",
   "metadata": {},
   "outputs": [
    {
     "data": {
      "text/plain": [
       "'projects/327163206482/locations/us-central1/indexEndpoints/7798888752373301248'"
      ]
     },
     "execution_count": 467,
     "metadata": {},
     "output_type": "execute_result"
    }
   ],
   "source": [
    "INDEX_ENDPOINT_NAME = my_index_endpoint.resource_name\n",
    "INDEX_ENDPOINT_NAME"
   ]
  },
  {
   "cell_type": "markdown",
   "id": "1890a4ad-7927-42ef-b28a-2bf74e0c063b",
   "metadata": {},
   "source": [
    "# Deploy Index"
   ]
  },
  {
   "cell_type": "code",
   "execution_count": 468,
   "id": "0f976100-058a-4ce5-af04-6411773e4c52",
   "metadata": {},
   "outputs": [],
   "source": [
    "DEPLOYED_INDEX_ID = \"tree_ah_image_similarity_deployed_named\""
   ]
  },
  {
   "cell_type": "code",
   "execution_count": 469,
   "id": "7a9c46c8-62c4-4f30-8377-57299a7f7bdc",
   "metadata": {},
   "outputs": [
    {
     "name": "stdout",
     "output_type": "stream",
     "text": [
      "Deploying index MatchingEngineIndexEndpoint index_endpoint: projects/327163206482/locations/us-central1/indexEndpoints/7798888752373301248\n",
      "Deploy index MatchingEngineIndexEndpoint index_endpoint backing LRO: projects/327163206482/locations/us-central1/indexEndpoints/7798888752373301248/operations/7188113547837046784\n",
      "MatchingEngineIndexEndpoint index_endpoint Deployed index. Resource name: projects/327163206482/locations/us-central1/indexEndpoints/7798888752373301248\n"
     ]
    },
    {
     "data": {
      "text/plain": [
       "[id: \"tree_ah_image_similarity_deployed_named\"\n",
       "index: \"projects/327163206482/locations/us-central1/indexes/5492482793206185984\"\n",
       "create_time {\n",
       "  seconds: 1690139123\n",
       "  nanos: 767995000\n",
       "}\n",
       "private_endpoints {\n",
       "  match_grpc_address: \"172.24.0.5\"\n",
       "}\n",
       "index_sync_time {\n",
       "  seconds: 1690139123\n",
       "  nanos: 767995000\n",
       "}\n",
       "automatic_resources {\n",
       "  min_replica_count: 2\n",
       "  max_replica_count: 2\n",
       "}\n",
       "deployment_group: \"default\"\n",
       "]"
      ]
     },
     "execution_count": 469,
     "metadata": {},
     "output_type": "execute_result"
    }
   ],
   "source": [
    "my_index_endpoint = my_index_endpoint.deploy_index(\n",
    "    index=tree_ah_index, deployed_index_id=DEPLOYED_INDEX_ID\n",
    ")\n",
    "\n",
    "my_index_endpoint.deployed_indexes"
   ]
  },
  {
   "cell_type": "markdown",
   "id": "e38edcec-c1ba-4d09-85fe-c9b0403417cb",
   "metadata": {},
   "source": [
    "# Create Queries"
   ]
  },
  {
   "cell_type": "code",
   "execution_count": 470,
   "id": "4d2ec5fb-d1e6-4df9-a087-7ca0c5cb184f",
   "metadata": {},
   "outputs": [],
   "source": [
    "NUM_NEIGHBOURS = 10"
   ]
  },
  {
   "cell_type": "code",
   "execution_count": 492,
   "id": "2221782d-fa6d-4b25-b187-eecd5d5fb8d3",
   "metadata": {
    "tags": []
   },
   "outputs": [
    {
     "data": {
      "text/plain": [
       "[[MatchNeighbor(id='NORMAL2-IM-0859-0001.jpeg', distance=1575.8304443359375),\n",
       "  MatchNeighbor(id='person934_bacteria_2859.jpeg', distance=1443.3421630859375),\n",
       "  MatchNeighbor(id='IM-0700-0001.jpeg', distance=1385.1085205078125),\n",
       "  MatchNeighbor(id='person1411_bacteria_3598.jpeg', distance=1363.507568359375),\n",
       "  MatchNeighbor(id='IM-0502-0001.jpeg', distance=1280.161376953125),\n",
       "  MatchNeighbor(id='IM-0501-0001.jpeg', distance=1263.3941650390625),\n",
       "  MatchNeighbor(id='person359_bacteria_1646.jpeg', distance=1249.193603515625),\n",
       "  MatchNeighbor(id='person38_virus_84.jpeg', distance=1233.211669921875),\n",
       "  MatchNeighbor(id='person1716_bacteria_4533.jpeg', distance=1222.0478515625),\n",
       "  MatchNeighbor(id='person443_bacteria_1923.jpeg', distance=1208.154541015625)]]"
      ]
     },
     "execution_count": 492,
     "metadata": {},
     "output_type": "execute_result"
    }
   ],
   "source": [
    "# Test query\n",
    "from google.cloud.aiplatform.matching_engine.matching_engine_index_endpoint import \\\n",
    "    Namespace\n",
    "\n",
    "# Test query\n",
    "response = my_index_endpoint.match(\n",
    "    deployed_index_id=DEPLOYED_INDEX_ID,\n",
    "    queries=test['array'].iloc[11:12],\n",
    "    num_neighbors=NUM_NEIGHBOURS,\n",
    ")\n",
    "\n",
    "response"
   ]
  },
  {
   "cell_type": "code",
   "execution_count": 491,
   "id": "c4f876d4-26f8-479e-84f9-018b97258d50",
   "metadata": {},
   "outputs": [
    {
     "data": {
      "text/html": [
       "<div>\n",
       "<style scoped>\n",
       "    .dataframe tbody tr th:only-of-type {\n",
       "        vertical-align: middle;\n",
       "    }\n",
       "\n",
       "    .dataframe tbody tr th {\n",
       "        vertical-align: top;\n",
       "    }\n",
       "\n",
       "    .dataframe thead th {\n",
       "        text-align: right;\n",
       "    }\n",
       "</style>\n",
       "<table border=\"1\" class=\"dataframe\">\n",
       "  <thead>\n",
       "    <tr style=\"text-align: right;\">\n",
       "      <th></th>\n",
       "      <th>img_name</th>\n",
       "      <th>array</th>\n",
       "    </tr>\n",
       "  </thead>\n",
       "  <tbody>\n",
       "    <tr>\n",
       "      <th>169</th>\n",
       "      <td>IM-0274-0001.jpeg</td>\n",
       "      <td>[0.21890673, -0.2678706, 1.7154611, -0.2759268...</td>\n",
       "    </tr>\n",
       "  </tbody>\n",
       "</table>\n",
       "</div>"
      ],
      "text/plain": [
       "              img_name                                              array\n",
       "169  IM-0274-0001.jpeg  [0.21890673, -0.2678706, 1.7154611, -0.2759268..."
      ]
     },
     "execution_count": 491,
     "metadata": {},
     "output_type": "execute_result"
    }
   ],
   "source": [
    "test.iloc[11:12]"
   ]
  },
  {
   "cell_type": "code",
   "execution_count": null,
   "id": "399f8560-81d5-4d5e-ac6d-4e21b3e67eb5",
   "metadata": {},
   "outputs": [],
   "source": []
  }
 ],
 "metadata": {
  "environment": {
   "kernel": "python3",
   "name": "tf2-gpu.2-11.m109",
   "type": "gcloud",
   "uri": "gcr.io/deeplearning-platform-release/tf2-gpu.2-11:m109"
  },
  "kernelspec": {
   "display_name": "Python 3",
   "language": "python",
   "name": "python3"
  },
  "language_info": {
   "codemirror_mode": {
    "name": "ipython",
    "version": 3
   },
   "file_extension": ".py",
   "mimetype": "text/x-python",
   "name": "python",
   "nbconvert_exporter": "python",
   "pygments_lexer": "ipython3",
   "version": "3.10.11"
  }
 },
 "nbformat": 4,
 "nbformat_minor": 5
}
